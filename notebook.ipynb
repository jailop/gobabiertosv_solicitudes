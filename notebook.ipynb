{
 "cells": [
  {
   "cell_type": "markdown",
   "metadata": {},
   "source": [
    "# Análisis de las peticiones de gobierno abierto\n",
    "\n",
    "Actualización: Feb. 6, 2019\n",
    "\n",
    "En esta hoja de trabajo se realiza una análisis de la base de datos de peticiones tramitadas a través del portal Gobierno Abierto. Los datos son obtenidos del Portal de Datos Abiertos del Gobierno de El Salvador. Los están actualizados hasta Jun. 8, 2018."
   ]
  },
  {
   "cell_type": "code",
   "execution_count": 18,
   "metadata": {},
   "outputs": [],
   "source": [
    "# Carga de librerías\n",
    "import pandas as pd\n",
    "import matplotlib.pyplot as plt\n",
    "import codecs\n",
    "import numpy as np\n",
    "from io import StringIO\n",
    "%matplotlib inline"
   ]
  },
  {
   "cell_type": "code",
   "execution_count": 51,
   "metadata": {},
   "outputs": [],
   "source": [
    "data = pd.read_csv('input/solicitudes.csv')"
   ]
  },
  {
   "cell_type": "code",
   "execution_count": 52,
   "metadata": {},
   "outputs": [
    {
     "data": {
      "text/plain": [
       "(32913, 24)"
      ]
     },
     "execution_count": 52,
     "metadata": {},
     "output_type": "execute_result"
    }
   ],
   "source": [
    "# Tamaño del dataset - observaciones x atributos\n",
    "data.shape"
   ]
  },
  {
   "cell_type": "code",
   "execution_count": 53,
   "metadata": {},
   "outputs": [
    {
     "data": {
      "text/plain": [
       "Index(['Siglas', 'Institución', 'Año de admisión', 'Fecha de admisión',\n",
       "       'Correlativo', 'Nacionalidad', 'Nacionalidad.1', 'Residencia',\n",
       "       'Tipo de persona', 'Edad', 'Sexo', 'Nivel educativo', 'Ocupación',\n",
       "       'Forma de entrega', 'Departamento', 'Municipio',\n",
       "       'Total de requerimientos', 'Detalle de requerimientos',\n",
       "       'Información solicitada', 'Unnamed: 19', 'Unnamed: 20', 'Unnamed: 21',\n",
       "       'Unnamed: 22', 'Unnamed: 23'],\n",
       "      dtype='object')"
      ]
     },
     "execution_count": 53,
     "metadata": {},
     "output_type": "execute_result"
    }
   ],
   "source": [
    "# Atributos del dataset\n",
    "data.columns"
   ]
  },
  {
   "cell_type": "code",
   "execution_count": 59,
   "metadata": {},
   "outputs": [
    {
     "data": {
      "text/html": [
       "<div>\n",
       "<style scoped>\n",
       "    .dataframe tbody tr th:only-of-type {\n",
       "        vertical-align: middle;\n",
       "    }\n",
       "\n",
       "    .dataframe tbody tr th {\n",
       "        vertical-align: top;\n",
       "    }\n",
       "\n",
       "    .dataframe thead th {\n",
       "        text-align: right;\n",
       "    }\n",
       "</style>\n",
       "<table border=\"1\" class=\"dataframe\">\n",
       "  <thead>\n",
       "    <tr style=\"text-align: right;\">\n",
       "      <th>Sexo</th>\n",
       "      <th>F</th>\n",
       "      <th>M</th>\n",
       "    </tr>\n",
       "    <tr>\n",
       "      <th>Año de admisión</th>\n",
       "      <th></th>\n",
       "      <th></th>\n",
       "    </tr>\n",
       "  </thead>\n",
       "  <tbody>\n",
       "    <tr>\n",
       "      <th>2014.0</th>\n",
       "      <td>1762</td>\n",
       "      <td>2348</td>\n",
       "    </tr>\n",
       "    <tr>\n",
       "      <th>2015.0</th>\n",
       "      <td>3105</td>\n",
       "      <td>3071</td>\n",
       "    </tr>\n",
       "    <tr>\n",
       "      <th>2016.0</th>\n",
       "      <td>3915</td>\n",
       "      <td>3741</td>\n",
       "    </tr>\n",
       "    <tr>\n",
       "      <th>2017.0</th>\n",
       "      <td>5001</td>\n",
       "      <td>5003</td>\n",
       "    </tr>\n",
       "    <tr>\n",
       "      <th>2018.0</th>\n",
       "      <td>1168</td>\n",
       "      <td>1251</td>\n",
       "    </tr>\n",
       "    <tr>\n",
       "      <th>NA</th>\n",
       "      <td>1312</td>\n",
       "      <td>1236</td>\n",
       "    </tr>\n",
       "  </tbody>\n",
       "</table>\n",
       "</div>"
      ],
      "text/plain": [
       "Sexo                F     M\n",
       "Año de admisión            \n",
       "2014.0           1762  2348\n",
       "2015.0           3105  3071\n",
       "2016.0           3915  3741\n",
       "2017.0           5001  5003\n",
       "2018.0           1168  1251\n",
       "NA               1312  1236"
      ]
     },
     "execution_count": 59,
     "metadata": {},
     "output_type": "execute_result"
    }
   ],
   "source": [
    "# Peticiones por año y sexo\n",
    "por_sexo = pd.crosstab(data['Año de admisión'].fillna('NA'), data['Sexo'].fillna('NA'))\n",
    "# fig = por_sexo.plot(kind='bar').get_figure()\n",
    "# fig.suptitle('Peticiones por sexo')\n",
    "# fig.savefig('por-sexo.png')\n",
    "por_sexo"
   ]
  },
  {
   "cell_type": "code",
   "execution_count": 8,
   "metadata": {},
   "outputs": [
    {
     "name": "stdout",
     "output_type": "stream",
     "text": [
      "Detalle:\n",
      " Sexo                F     M\n",
      "Año de admisión            \n",
      "2014.0           1762  2348\n",
      "2015.0           3105  3071\n",
      "2016.0           3915  3741\n",
      "2017.0           5001  5003\n",
      "2018.0           1168  1251\n",
      "NA               1312  1236\n",
      "Subtotales:\n",
      " Sexo\n",
      "F    16263\n",
      "M    16650\n",
      "dtype: int64\n",
      "Total:\n",
      " 32913\n"
     ]
    }
   ],
   "source": [
    "por_sexo.to_excel('por-sexo.xlsx')\n",
    "print('Detalle:\\n', por_sexo)\n",
    "print('Subtotales:\\n', por_sexo.sum())\n",
    "print('Total:\\n', por_sexo.sum().sum())"
   ]
  },
  {
   "cell_type": "code",
   "execution_count": 60,
   "metadata": {
    "scrolled": true
   },
   "outputs": [
    {
     "name": "stdout",
     "output_type": "stream",
     "text": [
      "Detalle:\n",
      " Año de admisión                        2014.0  2015.0  2016.0  2017.0  2018.0  \\\n",
      "Departamento Municipio                                                          \n",
      "Ahuachapán   Ahuachapán                     9      31      42      65       7   \n",
      "             Apaneca                        0       0       2       3       2   \n",
      "             Atiquizaya                     5       7       8      16       7   \n",
      "             Concepción de Ataco            0       5       4       4       1   \n",
      "             El Refugio                     1       2       0       3       0   \n",
      "             Guaymango                      0       2       0       0       0   \n",
      "             Jujutla                        0       1       2       5       0   \n",
      "             San Francisco Menéndez         5       3       7       6       1   \n",
      "             San Lorenzo                    1       5       4       3       3   \n",
      "             San Pedro Puxtla               2       0       0       4       1   \n",
      "             Tacuba                         1       4       5       4       4   \n",
      "             Turín                          1       3       2       4       1   \n",
      "Cabañas      Cinquera                       0       1       0       1       1   \n",
      "             Guacotecti                     1       2       2       2       0   \n",
      "             Ilobasco                      11      22      17      17       6   \n",
      "             Jutiapa                        0       0       2       1       0   \n",
      "             San Isidro                     3       0       2       6       0   \n",
      "             Sensuntepeque                  9       7      11      17       3   \n",
      "             Tejutepeque                    0       6       8       2       1   \n",
      "             Victoria                       1       3       1       5       5   \n",
      "             Villa Dolores                  0       0       0       2       0   \n",
      "Chalatenango Agua Caliente                  1       0       4       2       0   \n",
      "             Arcatao                        0       1       1       4       1   \n",
      "             Chalatenango                  16      15      26      37      13   \n",
      "             Citalá                         0       1       0       0       0   \n",
      "             Comalapa                       0       1       4       2       0   \n",
      "             Concepción Quezaltepeque       2       1       2       2       0   \n",
      "             Dulce Nombre de María          0       2       1       0       2   \n",
      "             El Carrizal                    0       0       0       3       0   \n",
      "             El Paraíso                     4       1       3       2       0   \n",
      "...                                       ...     ...     ...     ...     ...   \n",
      "Sonsonate    Salcoatitán                    1       0       3       0       1   \n",
      "             San Antonio del Monte          4       5       3       7       8   \n",
      "             San Julián                     1       3       9       6       1   \n",
      "             Santa Catarina Masahuat        1       6       2       0       1   \n",
      "             Santa Isabel Ishuatán          0       3       0       1       0   \n",
      "             Santo Domingo                  1       0       1       0       1   \n",
      "             Sonsonate                     14      32      31      44       9   \n",
      "             Sonzacate                      5       6      13       7       0   \n",
      "Usulután     Alegría                        3       0       1       7       1   \n",
      "             Berlín                         3       4       1       4       2   \n",
      "             Concepción Batres              0       2       1       1       0   \n",
      "             El Triunfo                     5       1       3       2       0   \n",
      "             Ereguayquín                    0       2       2      11       2   \n",
      "             Estanzuelas                    4       3       1       2       0   \n",
      "             Jiquilisco                     5      19       3      17       9   \n",
      "             Jucuapa                        6       8       7      10       2   \n",
      "             Jucuarán                       0       2       1       3       1   \n",
      "             Mercedes Umaña                 5       0       3       2       0   \n",
      "             Nueva Granada                  2       2       0       1       3   \n",
      "             Ozatlán                        1       0       7       2       0   \n",
      "             Puerto El Triunfo              3       0       4       2       1   \n",
      "             San Agustín                    1       4       0       3       2   \n",
      "             San Buenaventura               3       3       0       1       0   \n",
      "             San Dionisio                   0       0       0       1       1   \n",
      "             San Francisco Javier           1       6       1       1       2   \n",
      "             Santa Elena                    3       2       1       2       2   \n",
      "             Santa María                    1       1       4       0       1   \n",
      "             Santiago de María             12       2       8       2       7   \n",
      "             Tecapán                        6       0       1       2       0   \n",
      "             Usulután                       5      30      41      36       4   \n",
      "\n",
      "Año de admisión                        nan  \n",
      "Departamento Municipio                      \n",
      "Ahuachapán   Ahuachapán                 16  \n",
      "             Apaneca                     1  \n",
      "             Atiquizaya                  3  \n",
      "             Concepción de Ataco         1  \n",
      "             El Refugio                  2  \n",
      "             Guaymango                   2  \n",
      "             Jujutla                     1  \n",
      "             San Francisco Menéndez      0  \n",
      "             San Lorenzo                 0  \n",
      "             San Pedro Puxtla            0  \n",
      "             Tacuba                      1  \n",
      "             Turín                       0  \n",
      "Cabañas      Cinquera                    0  \n",
      "             Guacotecti                  2  \n",
      "             Ilobasco                    5  \n",
      "             Jutiapa                     1  \n",
      "             San Isidro                  1  \n",
      "             Sensuntepeque               8  \n",
      "             Tejutepeque                 0  \n",
      "             Victoria                    1  \n",
      "             Villa Dolores               1  \n",
      "Chalatenango Agua Caliente               1  \n",
      "             Arcatao                     0  \n",
      "             Chalatenango                8  \n",
      "             Citalá                      0  \n",
      "             Comalapa                    0  \n",
      "             Concepción Quezaltepeque    0  \n",
      "             Dulce Nombre de María       0  \n",
      "             El Carrizal                 1  \n",
      "             El Paraíso                  0  \n",
      "...                                    ...  \n",
      "Sonsonate    Salcoatitán                 0  \n",
      "             San Antonio del Monte       2  \n",
      "             San Julián                  2  \n",
      "             Santa Catarina Masahuat     1  \n",
      "             Santa Isabel Ishuatán       0  \n",
      "             Santo Domingo               0  \n",
      "             Sonsonate                  10  \n",
      "             Sonzacate                   1  \n",
      "Usulután     Alegría                     0  \n",
      "             Berlín                      2  \n",
      "             Concepción Batres           1  \n",
      "             El Triunfo                  1  \n",
      "             Ereguayquín                 2  \n",
      "             Estanzuelas                 1  \n",
      "             Jiquilisco                  0  \n",
      "             Jucuapa                     3  \n",
      "             Jucuarán                    1  \n",
      "             Mercedes Umaña              1  \n",
      "             Nueva Granada               6  \n",
      "             Ozatlán                     1  \n",
      "             Puerto El Triunfo           0  \n",
      "             San Agustín                 1  \n",
      "             San Buenaventura            0  \n",
      "             San Dionisio                0  \n",
      "             San Francisco Javier        0  \n",
      "             Santa Elena                 0  \n",
      "             Santa María                 2  \n",
      "             Santiago de María           1  \n",
      "             Tecapán                     0  \n",
      "             Usulután                   14  \n",
      "\n",
      "[253 rows x 6 columns]\n",
      "Subtotales:\n",
      " Año de admisión\n",
      "2014.0     4110\n",
      "2015.0     6176\n",
      "2016.0     7656\n",
      "2017.0    10004\n",
      "2018.0     2419\n",
      "nan        2548\n",
      "dtype: int64\n",
      "Total:\n",
      " 32913\n"
     ]
    }
   ],
   "source": [
    "# Peticiones por departamento y año\n",
    "por_depto = pd.crosstab([data['Departamento'].fillna('NA'), data['Municipio'].fillna('NA')], data['Año de admisión'].apply(str).fillna('NA'))\n",
    "por_depto.to_excel('por-depto.xlsx')\n",
    "print('Detalle:\\n', por_depto)\n",
    "print('Subtotales:\\n', por_depto.sum())\n",
    "print('Total:\\n', por_depto.sum().sum())"
   ]
  },
  {
   "cell_type": "code",
   "execution_count": 10,
   "metadata": {},
   "outputs": [
    {
     "name": "stdout",
     "output_type": "stream",
     "text": [
      "Detalle:\n",
      " Año de admisión            2014.0  2015.0  2016.0  2017.0  2018.0  nan\n",
      "Municipio                                                             \n",
      "Acajutla                        7       5      11      11       3    4\n",
      "Agua Caliente                   1       0       4       2       0    1\n",
      "Aguilares                       7       9      13      16      14    4\n",
      "Ahuachapán                      9      31      42      65       7   16\n",
      "Alegría                         3       0       1       7       1    0\n",
      "Anamorós                        1       2       0       0       0    0\n",
      "Antiguo Cuscatlán             162     263     460     576     110  174\n",
      "Apaneca                         0       0       2       3       2    1\n",
      "Apastepeque                     4       4       7       9       2    2\n",
      "Apopa                          82     114     120     143      54   21\n",
      "Arcatao                         0       1       1       4       1    0\n",
      "Armenia                         8      11      17      11       3    7\n",
      "Atiquizaya                      5       7       8      16       7    3\n",
      "Ayutuxtepeque                  27      55      81     110      30   28\n",
      "Berlín                          3       4       1       4       2    2\n",
      "Bolívar                         0       0       1       0       1    0\n",
      "Cacaopera                       0       3       1       1       6    1\n",
      "Caluco                          0       0       1       4       0    0\n",
      "Candelaria                      1       1       1       2       1    0\n",
      "Candelaria de la Frontera       3       4       9       4       2    4\n",
      "Carolina                        1       0       0       0       1    0\n",
      "Chalatenango                   16      15      26      37      13    8\n",
      "Chalchuapa                      9      22      19      41      12   10\n",
      "Chapeltique                     4       0       3       5       0    0\n",
      "Chilanga                        0       1       0       0       3    0\n",
      "Chiltiupán                      1       2       1       2       0    1\n",
      "Chinameca                       8       3       4       4       7    3\n",
      "Chirilagua                      1       0       0       3       1    0\n",
      "Cinquera                        0       1       0       1       1    0\n",
      "Citalá                          0       1       0       0       0    0\n",
      "...                           ...     ...     ...     ...     ...  ...\n",
      "Sonsonate                      14      32      31      44       9   10\n",
      "Sonzacate                       5       6      13       7       0    1\n",
      "Soyapango                     183     343     368     601     130  132\n",
      "Suchitoto                      11      12       4      28      23    0\n",
      "Tacuba                          1       4       5       4       4    1\n",
      "Talnique                        5       1       7       4       0    2\n",
      "Tamanique                       2       4       2       4       3    0\n",
      "Tapalhuaca                      2       3       4       4       0    0\n",
      "Tecapán                         6       0       1       2       0    0\n",
      "Tecoluca                        7      16       5      23      11    1\n",
      "Tejutepeque                     0       6       8       2       1    0\n",
      "Tejutla                         4       1       6       5       3    3\n",
      "Tenancingo                      3       4       2       0       0    0\n",
      "Teotepeque                      0       0       2       0       0    0\n",
      "Tepecoyo                        0       6       4      11       5    1\n",
      "Tepetitán                       1       3       1       2       0    1\n",
      "Texistepeque                    0       1       2       8       0    2\n",
      "Tonacatepeque                  29      28      38      78      16   18\n",
      "Torola                          0       1       0       1       0    0\n",
      "Turín                           1       3       2       4       1    0\n",
      "Uluazapa                        0       1       0       2       0    0\n",
      "Usulután                        5      30      41      36       4   14\n",
      "Verapaz                         5       0       3       0       0    0\n",
      "Victoria                        1       3       1       5       5    1\n",
      "Villa Dolores                   0       0       0       2       0    1\n",
      "Yamabal                         0       1       1       5       0    0\n",
      "Yayantique                      0       0       1       0       0    0\n",
      "Yucuayquín                      1       0       1       2       2    0\n",
      "Zacatecoluca                   37      29      46     100      22    9\n",
      "Zaragoza                       22      41      21      25       9    9\n",
      "\n",
      "[246 rows x 6 columns]\n",
      "Subtotales:\n",
      " Año de admisión\n",
      "2014.0     4110\n",
      "2015.0     6176\n",
      "2016.0     7656\n",
      "2017.0    10004\n",
      "2018.0     2419\n",
      "nan        2548\n",
      "dtype: int64\n",
      "Total:\n",
      " 32913\n"
     ]
    }
   ],
   "source": [
    "# Peticiones por municipio\n",
    "por_mun = pd.crosstab(data['Municipio'].fillna('NA'), data['Año de admisión'].apply(str).fillna('NA'))\n",
    "por_mun.to_excel('por-municipio.xlsx')\n",
    "print('Detalle:\\n', por_mun)\n",
    "print('Subtotales:\\n', por_mun.sum())\n",
    "print('Total:\\n', por_mun.sum().sum())"
   ]
  },
  {
   "cell_type": "code",
   "execution_count": 11,
   "metadata": {},
   "outputs": [],
   "source": [
    "# Por nivel educativo\n",
    "data.loc[(data['Nivel educativo'] == 'No especificó su inf. académica'), 'Nivel educativo'] = 'NA'\n",
    "data.loc[(data['Nivel educativo'] == 'no especificó'), 'Nivel educativo'] = 'NA'\n",
    "data.loc[(data['Nivel educativo'] == 'Sin educación formal'), 'Nivel educativo'] = '0 - Sin educación formal'\n",
    "data.loc[(data['Nivel educativo'] == 'Primaria (Hasta sexto grado)'), 'Nivel educativo'] = '1 - Primaria'\n",
    "data.loc[(data['Nivel educativo'] == 'primaria'), 'Nivel educativo'] = '1 - Primaria'\n",
    "data.loc[(data['Nivel educativo'] == 'Secundaria (Tercer ciclo)'), 'Nivel educativo'] = '2 - Secundaria'\n",
    "data.loc[(data['Nivel educativo'] == 'secundaria'), 'Nivel educativo'] = '2 - Secundaria'\n",
    "data.loc[(data['Nivel educativo'] == 'bachillerato'), 'Nivel educativo'] = '3 - Bachillerato'\n",
    "data.loc[(data['Nivel educativo'] == 'Bachillerato'), 'Nivel educativo'] = '3 - Bachillerato'\n",
    "data.loc[(data['Nivel educativo'] == 'Universitario'), 'Nivel educativo'] = '4 - Universitario'\n",
    "data.loc[(data['Nivel educativo'] == 'universitario'), 'Nivel educativo'] = '4 - Universitario'\n",
    "data.loc[(data['Nivel educativo'] == 'Postgrado'), 'Nivel educativo'] = '5 - Posgrado'\n",
    "data.loc[(data['Nivel educativo'] == 'postgrado'), 'Nivel educativo'] = '5 - Posgrado'\n",
    "por_educ = pd.crosstab(data['Nivel educativo'].fillna('NA'), data['Año de admisión'].apply(str).fillna('NA'))"
   ]
  },
  {
   "cell_type": "code",
   "execution_count": 12,
   "metadata": {},
   "outputs": [
    {
     "name": "stdout",
     "output_type": "stream",
     "text": [
      "Detalle:\n",
      " Año de admisión           2014.0  2015.0  2016.0  2017.0  2018.0   nan\n",
      "Nivel educativo                                                       \n",
      "0 - Sin educación formal       0       0       0      71      68     2\n",
      "1 - Primaria                 154     267     170     409     178    19\n",
      "2 - Secundaria               150     296     200     360     135    28\n",
      "3 - Bachillerato             666     952     972    1371     377   404\n",
      "4 - Universitario           2633    3853    4696    5464    1205  1572\n",
      "5 - Posgrado                 310     512     898    1195     165   437\n",
      "NA                           197     296     720    1134     291    86\n",
      "Subtotales:\n",
      " Año de admisión\n",
      "2014.0     4110\n",
      "2015.0     6176\n",
      "2016.0     7656\n",
      "2017.0    10004\n",
      "2018.0     2419\n",
      "nan        2548\n",
      "dtype: int64\n",
      "Total:\n",
      " 32913\n"
     ]
    },
    {
     "data": {
      "image/png": "[encoded data removed]",
      "text/plain": [
       "<Figure size 432x288 with 1 Axes>"
      ]
     },
     "metadata": {
      "needs_background": "light"
     },
     "output_type": "display_data"
    }
   ],
   "source": [
    "fig = por_educ.plot(kind='bar').get_figure()\n",
    "fig.suptitle('Peticiones por nivel educativo')\n",
    "fig.savefig('por-educ.png')\n",
    "por_educ.to_excel('por-educ.xlsx')\n",
    "print('Detalle:\\n', por_educ)\n",
    "print('Subtotales:\\n', por_educ.sum())\n",
    "print('Total:\\n', por_educ.sum().sum())"
   ]
  },
  {
   "cell_type": "code",
   "execution_count": 13,
   "metadata": {},
   "outputs": [],
   "source": [
    "# Por institución\n",
    "por_inst = pd.crosstab(data['Institución'].fillna('NA'), data['Año de admisión'].apply(str).fillna('NA'))\n",
    "por_inst.to_excel('por-institucion.xlsx')"
   ]
  },
  {
   "cell_type": "code",
   "execution_count": 14,
   "metadata": {},
   "outputs": [
    {
     "data": {
      "text/plain": [
       "<matplotlib.axes._subplots.AxesSubplot at 0x7f84fcf813c8>"
      ]
     },
     "execution_count": 14,
     "metadata": {},
     "output_type": "execute_result"
    },
    {
     "data": {
      "image/png": "[encoded data removed]",
      "text/plain": [
       "<Figure size 432x288 with 1 Axes>"
      ]
     },
     "metadata": {
      "needs_background": "light"
     },
     "output_type": "display_data"
    }
   ],
   "source": [
    "# Por edad\n",
    "por_edad = data.groupby(['Edad'])['Edad'].count()\n",
    "por_edad.to_excel('por-edad.xlsx')\n",
    "por_edad.plot(kind='bar')"
   ]
  },
  {
   "cell_type": "code",
   "execution_count": 15,
   "metadata": {},
   "outputs": [
    {
     "data": {
      "text/plain": [
       "array([ 4784., 12232.,  9432.,  4102.,    87.])"
      ]
     },
     "execution_count": 15,
     "metadata": {},
     "output_type": "execute_result"
    }
   ],
   "source": [
    "edades = [0, 18, 30, 45, 60,100]\n",
    "freq = np.zeros(len(edades) - 1)\n",
    "pos = 1\n",
    "for idx in range(len(por_edad)):\n",
    "    if pos > len(edades) - 2:\n",
    "        break\n",
    "    if idx >= edades[pos]:\n",
    "        pos += 1\n",
    "    freq[pos - 1] += por_edad.iloc[idx]\n",
    "freq"
   ]
  },
  {
   "cell_type": "code",
   "execution_count": 16,
   "metadata": {},
   "outputs": [],
   "source": [
    "df = pd.DataFrame({'Frecuencia': freq}, index=['[0-18]', '[18-30]', '[30-45]', '[45-60]', '>60'])\n",
    "df.to_excel('por-rango-edad.xlsx')"
   ]
  },
  {
   "cell_type": "code",
   "execution_count": 17,
   "metadata": {},
   "outputs": [
    {
     "data": {
      "image/png": "[encoded data removed]",
      "text/plain": [
       "<Figure size 432x288 with 1 Axes>"
      ]
     },
     "metadata": {
      "needs_background": "light"
     },
     "output_type": "display_data"
    }
   ],
   "source": [
    "fig = df.plot(kind='bar').get_figure()\n",
    "fig.suptitle('Peticiones por rango de edad')\n",
    "fig.savefig('por-rango-edad.png')"
   ]
  },
  {
   "cell_type": "code",
   "execution_count": null,
   "metadata": {},
   "outputs": [],
   "source": []
  }
 ],
 "metadata": {
  "kernelspec": {
   "display_name": "Python 3",
   "language": "python",
   "name": "python3"
  },
  "language_info": {
   "codemirror_mode": {
    "name": "ipython",
    "version": 3
   },
   "file_extension": ".py",
   "mimetype": "text/x-python",
   "name": "python",
   "nbconvert_exporter": "python",
   "pygments_lexer": "ipython3",
   "version": "3.7.2"
  }
 },
 "nbformat": 4,
 "nbformat_minor": 2
}
