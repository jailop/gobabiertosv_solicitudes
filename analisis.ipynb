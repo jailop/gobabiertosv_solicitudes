{
 "cells": [
  {
   "cell_type": "markdown",
   "metadata": {},
   "source": [
    "# Análisis de las peticiones de gobierno abierto\n",
    "\n",
    "Actualización: Feb. 6, 2019\n",
    "\n",
    "En esta hoja de trabajo se realiza una análisis de la base de datos de peticiones tramitadas a través del portal Gobierno Abierto."
   ]
  },
  {
   "cell_type": "code",
   "execution_count": 68,
   "metadata": {},
   "outputs": [],
   "source": [
    "# Carga de librerías\n",
    "import pandas as pd\n",
    "import matplotlib.pyplot as plt\n",
    "import codecs\n",
    "import numpy as np\n",
    "from io import StringIO\n",
    "%matplotlib inline"
   ]
  },
  {
   "cell_type": "code",
   "execution_count": 2,
   "metadata": {},
   "outputs": [
    {
     "data": {
      "text/plain": [
       "'Siglas,Ins'"
      ]
     },
     "execution_count": 2,
     "metadata": {},
     "output_type": "execute_result"
    }
   ],
   "source": [
    "raw = codecs.open('listado-de-solicitudes-de-informacion-2014-2018-.csv', 'r', 'iso-8859-1').read()\n",
    "raw[0:10]"
   ]
  },
  {
   "cell_type": "code",
   "execution_count": 3,
   "metadata": {},
   "outputs": [],
   "source": [
    "# Exploración del dataset\n",
    "# Los datos son cargados en la variable 'data'\n",
    "# url = 'https://datos.gob.sv/dataset/91e53b75-02b0-4589-9c59-63bf76731fae/resource/6d423005-1c61-4d98-856a-36b64753c6d7/download/listado-de-solicitudes-de-informacion-2014-2018-.csv'\n",
    "data = pd.read_csv(StringIO(raw))\n",
    "# data.to_csv('dataset.csv')"
   ]
  },
  {
   "cell_type": "code",
   "execution_count": 4,
   "metadata": {},
   "outputs": [
    {
     "data": {
      "text/plain": [
       "(32913, 24)"
      ]
     },
     "execution_count": 4,
     "metadata": {},
     "output_type": "execute_result"
    }
   ],
   "source": [
    "# Tamaño del dataset - observaciones x atributos\n",
    "data.shape"
   ]
  },
  {
   "cell_type": "code",
   "execution_count": 5,
   "metadata": {},
   "outputs": [
    {
     "data": {
      "text/html": [
       "<div>\n",
       "<style scoped>\n",
       "    .dataframe tbody tr th:only-of-type {\n",
       "        vertical-align: middle;\n",
       "    }\n",
       "\n",
       "    .dataframe tbody tr th {\n",
       "        vertical-align: top;\n",
       "    }\n",
       "\n",
       "    .dataframe thead th {\n",
       "        text-align: right;\n",
       "    }\n",
       "</style>\n",
       "<table border=\"1\" class=\"dataframe\">\n",
       "  <thead>\n",
       "    <tr style=\"text-align: right;\">\n",
       "      <th></th>\n",
       "      <th>Siglas</th>\n",
       "      <th>Institución</th>\n",
       "      <th>Año de admisión</th>\n",
       "      <th>Fecha de admisión</th>\n",
       "      <th>Correlativo</th>\n",
       "      <th>Nacionalidad</th>\n",
       "      <th>Nacionalidad.1</th>\n",
       "      <th>Residencia</th>\n",
       "      <th>Tipo de persona</th>\n",
       "      <th>Edad</th>\n",
       "      <th>...</th>\n",
       "      <th>Departamento</th>\n",
       "      <th>Municipio</th>\n",
       "      <th>Total de requerimientos</th>\n",
       "      <th>Detalle de requerimientos</th>\n",
       "      <th>Información solicitada</th>\n",
       "      <th>Unnamed: 19</th>\n",
       "      <th>Unnamed: 20</th>\n",
       "      <th>Unnamed: 21</th>\n",
       "      <th>Unnamed: 22</th>\n",
       "      <th>Unnamed: 23</th>\n",
       "    </tr>\n",
       "  </thead>\n",
       "  <tbody>\n",
       "    <tr>\n",
       "      <th>0</th>\n",
       "      <td>MARN</td>\n",
       "      <td>Ministerio de Medio Ambiente y Recursos Naturales</td>\n",
       "      <td>2014.0</td>\n",
       "      <td>05/01/2014</td>\n",
       "      <td>MARN-2014-0001</td>\n",
       "      <td>salvadoreño</td>\n",
       "      <td>NaN</td>\n",
       "      <td>El Salvador</td>\n",
       "      <td>natural</td>\n",
       "      <td>55.0</td>\n",
       "      <td>...</td>\n",
       "      <td>San Salvador</td>\n",
       "      <td>San Salvador</td>\n",
       "      <td>4</td>\n",
       "      <td>4 Públicas</td>\n",
       "      <td>1) Copia Digital del EsIA del proyecto \"Canter...</td>\n",
       "      <td>NaN</td>\n",
       "      <td>NaN</td>\n",
       "      <td>NaN</td>\n",
       "      <td>NaN</td>\n",
       "      <td>NaN</td>\n",
       "    </tr>\n",
       "    <tr>\n",
       "      <th>1</th>\n",
       "      <td>MARN</td>\n",
       "      <td>Ministerio de Medio Ambiente y Recursos Naturales</td>\n",
       "      <td>2014.0</td>\n",
       "      <td>05/01/2014</td>\n",
       "      <td>MARN-2014-0002</td>\n",
       "      <td>salvadoreño</td>\n",
       "      <td>NaN</td>\n",
       "      <td>El Salvador</td>\n",
       "      <td>legal</td>\n",
       "      <td>NaN</td>\n",
       "      <td>...</td>\n",
       "      <td>NaN</td>\n",
       "      <td>NaN</td>\n",
       "      <td>4</td>\n",
       "      <td>4 Públicas</td>\n",
       "      <td>Copia de la Resolución 160 del 13 de Septiembr...</td>\n",
       "      <td>NaN</td>\n",
       "      <td>NaN</td>\n",
       "      <td>NaN</td>\n",
       "      <td>NaN</td>\n",
       "      <td>NaN</td>\n",
       "    </tr>\n",
       "    <tr>\n",
       "      <th>2</th>\n",
       "      <td>MARN</td>\n",
       "      <td>Ministerio de Medio Ambiente y Recursos Naturales</td>\n",
       "      <td>2014.0</td>\n",
       "      <td>05/01/2014</td>\n",
       "      <td>MARN-2014-0003</td>\n",
       "      <td>salvadoreño</td>\n",
       "      <td>NaN</td>\n",
       "      <td>El Salvador</td>\n",
       "      <td>natural</td>\n",
       "      <td>36.0</td>\n",
       "      <td>...</td>\n",
       "      <td>San Salvador</td>\n",
       "      <td>Mejicanos</td>\n",
       "      <td>2</td>\n",
       "      <td>2 Públicas</td>\n",
       "      <td>RESULTADOS DE LIBRE GESTIÓN 610-2013 \"SERVICIO...</td>\n",
       "      <td>NaN</td>\n",
       "      <td>NaN</td>\n",
       "      <td>NaN</td>\n",
       "      <td>NaN</td>\n",
       "      <td>NaN</td>\n",
       "    </tr>\n",
       "    <tr>\n",
       "      <th>3</th>\n",
       "      <td>CNR</td>\n",
       "      <td>Centro Nacional de Registros</td>\n",
       "      <td>2014.0</td>\n",
       "      <td>05/01/2014</td>\n",
       "      <td>CNR-2014-0007</td>\n",
       "      <td>salvadoreño</td>\n",
       "      <td>NaN</td>\n",
       "      <td>El Salvador</td>\n",
       "      <td>natural</td>\n",
       "      <td>36.0</td>\n",
       "      <td>...</td>\n",
       "      <td>San Salvador</td>\n",
       "      <td>Mejicanos</td>\n",
       "      <td>1</td>\n",
       "      <td>1 Públicas</td>\n",
       "      <td>DETALLE DE PLAZAS VACANTES AL 6 DE ENERO 2014,...</td>\n",
       "      <td>NaN</td>\n",
       "      <td>NaN</td>\n",
       "      <td>NaN</td>\n",
       "      <td>NaN</td>\n",
       "      <td>NaN</td>\n",
       "    </tr>\n",
       "    <tr>\n",
       "      <th>4</th>\n",
       "      <td>MARN</td>\n",
       "      <td>Ministerio de Medio Ambiente y Recursos Naturales</td>\n",
       "      <td>2014.0</td>\n",
       "      <td>06/01/2014</td>\n",
       "      <td>MARN-2014-0004</td>\n",
       "      <td>salvadoreño</td>\n",
       "      <td>NaN</td>\n",
       "      <td>El Salvador</td>\n",
       "      <td>natural</td>\n",
       "      <td>30.0</td>\n",
       "      <td>...</td>\n",
       "      <td>San Salvador</td>\n",
       "      <td>San Salvador</td>\n",
       "      <td>1</td>\n",
       "      <td>1 Públicas</td>\n",
       "      <td>Características edafoclimaticas, descripción d...</td>\n",
       "      <td>NaN</td>\n",
       "      <td>NaN</td>\n",
       "      <td>NaN</td>\n",
       "      <td>NaN</td>\n",
       "      <td>NaN</td>\n",
       "    </tr>\n",
       "  </tbody>\n",
       "</table>\n",
       "<p>5 rows × 24 columns</p>\n",
       "</div>"
      ],
      "text/plain": [
       "  Siglas                                        Institución  Año de admisión  \\\n",
       "0   MARN  Ministerio de Medio Ambiente y Recursos Naturales           2014.0   \n",
       "1   MARN  Ministerio de Medio Ambiente y Recursos Naturales           2014.0   \n",
       "2   MARN  Ministerio de Medio Ambiente y Recursos Naturales           2014.0   \n",
       "3    CNR                       Centro Nacional de Registros           2014.0   \n",
       "4   MARN  Ministerio de Medio Ambiente y Recursos Naturales           2014.0   \n",
       "\n",
       "  Fecha de admisión     Correlativo Nacionalidad Nacionalidad.1   Residencia  \\\n",
       "0        05/01/2014  MARN-2014-0001  salvadoreño            NaN  El Salvador   \n",
       "1        05/01/2014  MARN-2014-0002  salvadoreño            NaN  El Salvador   \n",
       "2        05/01/2014  MARN-2014-0003  salvadoreño            NaN  El Salvador   \n",
       "3        05/01/2014   CNR-2014-0007  salvadoreño            NaN  El Salvador   \n",
       "4        06/01/2014  MARN-2014-0004  salvadoreño            NaN  El Salvador   \n",
       "\n",
       "  Tipo de persona  Edad  ...  Departamento     Municipio  \\\n",
       "0         natural  55.0  ...  San Salvador  San Salvador   \n",
       "1           legal   NaN  ...           NaN           NaN   \n",
       "2         natural  36.0  ...  San Salvador     Mejicanos   \n",
       "3         natural  36.0  ...  San Salvador     Mejicanos   \n",
       "4         natural  30.0  ...  San Salvador  San Salvador   \n",
       "\n",
       "  Total de requerimientos Detalle de requerimientos  \\\n",
       "0                       4                4 Públicas   \n",
       "1                       4                4 Públicas   \n",
       "2                       2                2 Públicas   \n",
       "3                       1                1 Públicas   \n",
       "4                       1                1 Públicas   \n",
       "\n",
       "                              Información solicitada Unnamed: 19  Unnamed: 20  \\\n",
       "0  1) Copia Digital del EsIA del proyecto \"Canter...         NaN          NaN   \n",
       "1  Copia de la Resolución 160 del 13 de Septiembr...         NaN          NaN   \n",
       "2  RESULTADOS DE LIBRE GESTIÓN 610-2013 \"SERVICIO...         NaN          NaN   \n",
       "3  DETALLE DE PLAZAS VACANTES AL 6 DE ENERO 2014,...         NaN          NaN   \n",
       "4  Características edafoclimaticas, descripción d...         NaN          NaN   \n",
       "\n",
       "  Unnamed: 21 Unnamed: 22  Unnamed: 23  \n",
       "0         NaN         NaN          NaN  \n",
       "1         NaN         NaN          NaN  \n",
       "2         NaN         NaN          NaN  \n",
       "3         NaN         NaN          NaN  \n",
       "4         NaN         NaN          NaN  \n",
       "\n",
       "[5 rows x 24 columns]"
      ]
     },
     "execution_count": 5,
     "metadata": {},
     "output_type": "execute_result"
    }
   ],
   "source": [
    "# Encabezado del dataset\n",
    "data.head()"
   ]
  },
  {
   "cell_type": "code",
   "execution_count": 6,
   "metadata": {},
   "outputs": [
    {
     "data": {
      "text/plain": [
       "Index(['Siglas', 'Institución', 'Año de admisión', 'Fecha de admisión',\n",
       "       'Correlativo', 'Nacionalidad', 'Nacionalidad.1', 'Residencia',\n",
       "       'Tipo de persona', 'Edad', 'Sexo', 'Nivel educativo', 'Ocupación',\n",
       "       'Forma de entrega', 'Departamento', 'Municipio',\n",
       "       'Total de requerimientos', 'Detalle de requerimientos',\n",
       "       'Información solicitada', 'Unnamed: 19', 'Unnamed: 20', 'Unnamed: 21',\n",
       "       'Unnamed: 22', 'Unnamed: 23'],\n",
       "      dtype='object')"
      ]
     },
     "execution_count": 6,
     "metadata": {},
     "output_type": "execute_result"
    }
   ],
   "source": [
    "# Atributos del dataset\n",
    "data.columns"
   ]
  },
  {
   "cell_type": "code",
   "execution_count": 72,
   "metadata": {},
   "outputs": [
    {
     "data": {
      "image/png": "[encoded data removed]",
      "text/plain": [
       "<Figure size 432x288 with 1 Axes>"
      ]
     },
     "metadata": {
      "needs_background": "light"
     },
     "output_type": "display_data"
    }
   ],
   "source": [
    "# Peticiones por año y sexo\n",
    "por_sexo = pd.crosstab(data['Año de admisión'].fillna('NA'), data['Sexo'].fillna('NA'))\n",
    "fig = por_sexo.plot(kind='bar').get_figure()\n",
    "fig.suptitle('Peticiones por sexo')\n",
    "fig.savefig('por-sexo.png')"
   ]
  },
  {
   "cell_type": "code",
   "execution_count": 47,
   "metadata": {},
   "outputs": [
    {
     "name": "stdout",
     "output_type": "stream",
     "text": [
      "Detalle:\n",
      " Sexo                F     M\n",
      "Año de admisión            \n",
      "2014.0           1762  2348\n",
      "2015.0           3105  3071\n",
      "2016.0           3915  3741\n",
      "2017.0           5001  5003\n",
      "2018.0           1168  1251\n",
      "NA               1312  1236\n",
      "Subtotales:\n",
      " Sexo\n",
      "F    16263\n",
      "M    16650\n",
      "dtype: int64\n",
      "Total:\n",
      " 32913\n"
     ]
    }
   ],
   "source": [
    "por_sexo.to_excel('por-sexo.xlsx')\n",
    "print('Detalle:\\n', por_sexo)\n",
    "print('Subtotales:\\n', por_sexo.sum())\n",
    "print('Total:\\n', por_sexo.sum().sum())"
   ]
  },
  {
   "cell_type": "code",
   "execution_count": 8,
   "metadata": {
    "scrolled": true
   },
   "outputs": [
    {
     "name": "stdout",
     "output_type": "stream",
     "text": [
      "Detalle:\n",
      " Año de admisión  2014.0  2015.0  2016.0  2017.0  2018.0   nan\n",
      "Departamento                                                 \n",
      "Ahuachapán           25      63      76     117      27    27\n",
      "Cabañas              25      41      43      53      16    19\n",
      "Chalatenango         50      49      76      97      46    21\n",
      "Cuscatlán            81     115      94     165      52    23\n",
      "La Libertad         774    1000    1377    1666     423   520\n",
      "La Paz              146     199     159     311      90    42\n",
      "La Unión             23      25      53      58      19    17\n",
      "Morazán              16      31      31      40      20    11\n",
      "NA                  126     190     260     420      72   170\n",
      "San Miguel          104     108     143     308      88    85\n",
      "San Salvador       2449    3835    4724    6091    1361  1441\n",
      "San Vicente          62      86      83      96      36    16\n",
      "Santa Ana            94     246     325     341      86    80\n",
      "Sonsonate            66      97     122     129      43    39\n",
      "Usulután             69      91      90     112      40    37\n",
      "Subtotales:\n",
      " Año de admisión\n",
      "2014.0     4110\n",
      "2015.0     6176\n",
      "2016.0     7656\n",
      "2017.0    10004\n",
      "2018.0     2419\n",
      "nan        2548\n",
      "dtype: int64\n",
      "Total:\n",
      " 32913\n"
     ]
    }
   ],
   "source": [
    "# Peticiones por departamento y año\n",
    "por_depto = pd.crosstab(data['Departamento'].fillna('NA'), data['Año de admisión'].apply(str).fillna('NA'))\n",
    "por_depto.to_excel('por-depto.xlsx')\n",
    "print('Detalle:\\n', por_depto)\n",
    "print('Subtotales:\\n', por_depto.sum())\n",
    "print('Total:\\n', por_depto.sum().sum())"
   ]
  },
  {
   "cell_type": "code",
   "execution_count": 9,
   "metadata": {},
   "outputs": [
    {
     "name": "stdout",
     "output_type": "stream",
     "text": [
      "Detalle:\n",
      " Año de admisión            2014.0  2015.0  2016.0  2017.0  2018.0  nan\n",
      "Municipio                                                             \n",
      "Acajutla                        7       5      11      11       3    4\n",
      "Agua Caliente                   1       0       4       2       0    1\n",
      "Aguilares                       7       9      13      16      14    4\n",
      "Ahuachapán                      9      31      42      65       7   16\n",
      "Alegría                         3       0       1       7       1    0\n",
      "Anamorós                        1       2       0       0       0    0\n",
      "Antiguo Cuscatlán             162     263     460     576     110  174\n",
      "Apaneca                         0       0       2       3       2    1\n",
      "Apastepeque                     4       4       7       9       2    2\n",
      "Apopa                          82     114     120     143      54   21\n",
      "Arcatao                         0       1       1       4       1    0\n",
      "Armenia                         8      11      17      11       3    7\n",
      "Atiquizaya                      5       7       8      16       7    3\n",
      "Ayutuxtepeque                  27      55      81     110      30   28\n",
      "Berlín                          3       4       1       4       2    2\n",
      "Bolívar                         0       0       1       0       1    0\n",
      "Cacaopera                       0       3       1       1       6    1\n",
      "Caluco                          0       0       1       4       0    0\n",
      "Candelaria                      1       1       1       2       1    0\n",
      "Candelaria de la Frontera       3       4       9       4       2    4\n",
      "Carolina                        1       0       0       0       1    0\n",
      "Chalatenango                   16      15      26      37      13    8\n",
      "Chalchuapa                      9      22      19      41      12   10\n",
      "Chapeltique                     4       0       3       5       0    0\n",
      "Chilanga                        0       1       0       0       3    0\n",
      "Chiltiupán                      1       2       1       2       0    1\n",
      "Chinameca                       8       3       4       4       7    3\n",
      "Chirilagua                      1       0       0       3       1    0\n",
      "Cinquera                        0       1       0       1       1    0\n",
      "Citalá                          0       1       0       0       0    0\n",
      "...                           ...     ...     ...     ...     ...  ...\n",
      "Sonsonate                      14      32      31      44       9   10\n",
      "Sonzacate                       5       6      13       7       0    1\n",
      "Soyapango                     183     343     368     601     130  132\n",
      "Suchitoto                      11      12       4      28      23    0\n",
      "Tacuba                          1       4       5       4       4    1\n",
      "Talnique                        5       1       7       4       0    2\n",
      "Tamanique                       2       4       2       4       3    0\n",
      "Tapalhuaca                      2       3       4       4       0    0\n",
      "Tecapán                         6       0       1       2       0    0\n",
      "Tecoluca                        7      16       5      23      11    1\n",
      "Tejutepeque                     0       6       8       2       1    0\n",
      "Tejutla                         4       1       6       5       3    3\n",
      "Tenancingo                      3       4       2       0       0    0\n",
      "Teotepeque                      0       0       2       0       0    0\n",
      "Tepecoyo                        0       6       4      11       5    1\n",
      "Tepetitán                       1       3       1       2       0    1\n",
      "Texistepeque                    0       1       2       8       0    2\n",
      "Tonacatepeque                  29      28      38      78      16   18\n",
      "Torola                          0       1       0       1       0    0\n",
      "Turín                           1       3       2       4       1    0\n",
      "Uluazapa                        0       1       0       2       0    0\n",
      "Usulután                        5      30      41      36       4   14\n",
      "Verapaz                         5       0       3       0       0    0\n",
      "Victoria                        1       3       1       5       5    1\n",
      "Villa Dolores                   0       0       0       2       0    1\n",
      "Yamabal                         0       1       1       5       0    0\n",
      "Yayantique                      0       0       1       0       0    0\n",
      "Yucuayquín                      1       0       1       2       2    0\n",
      "Zacatecoluca                   37      29      46     100      22    9\n",
      "Zaragoza                       22      41      21      25       9    9\n",
      "\n",
      "[246 rows x 6 columns]\n",
      "Subtotales:\n",
      " Año de admisión\n",
      "2014.0     4110\n",
      "2015.0     6176\n",
      "2016.0     7656\n",
      "2017.0    10004\n",
      "2018.0     2419\n",
      "nan        2548\n",
      "dtype: int64\n",
      "Total:\n",
      " 32913\n"
     ]
    }
   ],
   "source": [
    "# Peticiones por municipio\n",
    "por_mun = pd.crosstab(data['Municipio'].fillna('NA'), data['Año de admisión'].apply(str).fillna('NA'))\n",
    "por_mun.to_excel('por-municipio.xlsx')\n",
    "print('Detalle:\\n', por_mun)\n",
    "print('Subtotales:\\n', por_mun.sum())\n",
    "print('Total:\\n', por_mun.sum().sum())"
   ]
  },
  {
   "cell_type": "code",
   "execution_count": 10,
   "metadata": {},
   "outputs": [],
   "source": [
    "# Por nivel educativo\n",
    "data.loc[(data['Nivel educativo'] == 'No especificó su inf. académica'), 'Nivel educativo'] = 'NA'\n",
    "data.loc[(data['Nivel educativo'] == 'no especificó'), 'Nivel educativo'] = 'NA'\n",
    "data.loc[(data['Nivel educativo'] == 'Sin educación formal'), 'Nivel educativo'] = '0 - Sin educación formal'\n",
    "data.loc[(data['Nivel educativo'] == 'Primaria (Hasta sexto grado)'), 'Nivel educativo'] = '1 - Primaria'\n",
    "data.loc[(data['Nivel educativo'] == 'primaria'), 'Nivel educativo'] = '1 - Primaria'\n",
    "data.loc[(data['Nivel educativo'] == 'Secundaria (Tercer ciclo)'), 'Nivel educativo'] = '2 - Secundaria'\n",
    "data.loc[(data['Nivel educativo'] == 'secundaria'), 'Nivel educativo'] = '2 - Secundaria'\n",
    "data.loc[(data['Nivel educativo'] == 'bachillerato'), 'Nivel educativo'] = '3 - Bachillerato'\n",
    "data.loc[(data['Nivel educativo'] == 'Bachillerato'), 'Nivel educativo'] = '3 - Bachillerato'\n",
    "data.loc[(data['Nivel educativo'] == 'Universitario'), 'Nivel educativo'] = '4 - Universitario'\n",
    "data.loc[(data['Nivel educativo'] == 'universitario'), 'Nivel educativo'] = '4 - Universitario'\n",
    "data.loc[(data['Nivel educativo'] == 'Postgrado'), 'Nivel educativo'] = '5 - Posgrado'\n",
    "data.loc[(data['Nivel educativo'] == 'postgrado'), 'Nivel educativo'] = '5 - Posgrado'\n",
    "por_educ = pd.crosstab(data['Nivel educativo'].fillna('NA'), data['Año de admisión'].apply(str).fillna('NA'))"
   ]
  },
  {
   "cell_type": "code",
   "execution_count": 65,
   "metadata": {},
   "outputs": [
    {
     "name": "stdout",
     "output_type": "stream",
     "text": [
      "Detalle:\n",
      " Año de admisión           2014.0  2015.0  2016.0  2017.0  2018.0   nan\n",
      "Nivel educativo                                                       \n",
      "0 - Sin educación formal       0       0       0      71      68     2\n",
      "1 - Primaria                 154     267     170     409     178    19\n",
      "2 - Secundaria               150     296     200     360     135    28\n",
      "3 - Bachillerato             666     952     972    1371     377   404\n",
      "4 - Universitario           2633    3853    4696    5464    1205  1572\n",
      "5 - Posgrado                 310     512     898    1195     165   437\n",
      "NA                           197     296     720    1134     291    86\n",
      "Subtotales:\n",
      " Año de admisión\n",
      "2014.0     4110\n",
      "2015.0     6176\n",
      "2016.0     7656\n",
      "2017.0    10004\n",
      "2018.0     2419\n",
      "nan        2548\n",
      "dtype: int64\n",
      "Total:\n",
      " 32913\n"
     ]
    },
    {
     "data": {
      "image/png": "[encoded data removed]",
      "text/plain": [
       "<Figure size 432x288 with 1 Axes>"
      ]
     },
     "metadata": {
      "needs_background": "light"
     },
     "output_type": "display_data"
    }
   ],
   "source": [
    "fig = por_educ.plot(kind='bar').get_figure()\n",
    "fig.suptitle('Peticiones por nivel educativo')\n",
    "fig.savefig('por-educ.png')\n",
    "por_educ.to_excel('por-educ.xlsx')\n",
    "print('Detalle:\\n', por_educ)\n",
    "print('Subtotales:\\n', por_educ.sum())\n",
    "print('Total:\\n', por_educ.sum().sum())"
   ]
  },
  {
   "cell_type": "code",
   "execution_count": 12,
   "metadata": {},
   "outputs": [],
   "source": [
    "# Por institución\n",
    "por_inst = pd.crosstab(data['Institución'].fillna('NA'), data['Año de admisión'].apply(str).fillna('NA'))\n",
    "por_inst.to_excel('por-institucion.xlsx')"
   ]
  },
  {
   "cell_type": "code",
   "execution_count": 13,
   "metadata": {},
   "outputs": [
    {
     "data": {
      "text/plain": [
       "<matplotlib.axes._subplots.AxesSubplot at 0x7f4a7d2f8358>"
      ]
     },
     "execution_count": 13,
     "metadata": {},
     "output_type": "execute_result"
    },
    {
     "data": {
      "image/png": "[encoded data removed]",
      "text/plain": [
       "<Figure size 432x288 with 1 Axes>"
      ]
     },
     "metadata": {
      "needs_background": "light"
     },
     "output_type": "display_data"
    }
   ],
   "source": [
    "# Por edad\n",
    "por_edad = data.groupby(['Edad'])['Edad'].count()\n",
    "por_edad.to_excel('por-edad.xlsx')\n",
    "por_edad.plot(kind='bar')"
   ]
  },
  {
   "cell_type": "code",
   "execution_count": 14,
   "metadata": {},
   "outputs": [
    {
     "data": {
      "text/plain": [
       "array([ 4784., 12232.,  9432.,  4102.,    87.])"
      ]
     },
     "execution_count": 14,
     "metadata": {},
     "output_type": "execute_result"
    }
   ],
   "source": [
    "edades = [0, 18, 30, 45, 60,100]\n",
    "freq = np.zeros(len(edades) - 1)\n",
    "pos = 1\n",
    "for idx in range(len(por_edad)):\n",
    "    if pos > len(edades) - 2:\n",
    "        break\n",
    "    if idx >= edades[pos]:\n",
    "        pos += 1\n",
    "    freq[pos - 1] += por_edad.iloc[idx]\n",
    "freq"
   ]
  },
  {
   "cell_type": "code",
   "execution_count": 74,
   "metadata": {},
   "outputs": [],
   "source": [
    "df = pd.DataFrame({'Frecuencia': freq}, index=['[0-18]', '[18-30]', '[30-45]', '[45-60]', '>60'])\n",
    "df.to_excel('por-rango-edad.xlsx')"
   ]
  },
  {
   "cell_type": "code",
   "execution_count": 75,
   "metadata": {},
   "outputs": [
    {
     "data": {
      "image/png": "[encoded data removed]",
      "text/plain": [
       "<Figure size 432x288 with 1 Axes>"
      ]
     },
     "metadata": {
      "needs_background": "light"
     },
     "output_type": "display_data"
    }
   ],
   "source": [
    "fig = df.plot(kind='bar').get_figure()\n",
    "fig.suptitle('Peticiones por rango de edad')\n",
    "fig.savefig('por-rango-edad.png')"
   ]
  },
  {
   "cell_type": "code",
   "execution_count": null,
   "metadata": {},
   "outputs": [],
   "source": []
  }
 ],
 "metadata": {
  "kernelspec": {
   "display_name": "Python 3",
   "language": "python",
   "name": "python3"
  },
  "language_info": {
   "codemirror_mode": {
    "name": "ipython",
    "version": 3
   },
   "file_extension": ".py",
   "mimetype": "text/x-python",
   "name": "python",
   "nbconvert_exporter": "python",
   "pygments_lexer": "ipython3",
   "version": "3.7.2"
  }
 },
 "nbformat": 4,
 "nbformat_minor": 2
}
